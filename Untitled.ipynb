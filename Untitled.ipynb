{
 "cells": [
  {
   "cell_type": "markdown",
   "metadata": {},
   "source": [
    "## Import Dependencies"
   ]
  },
  {
   "cell_type": "code",
   "execution_count": 3,
   "metadata": {},
   "outputs": [],
   "source": [
    "import cv2\n",
    "import os\n",
    "import time\n",
    "import uuid"
   ]
  },
  {
   "cell_type": "markdown",
   "metadata": {},
   "source": [
    "## Define Images to Collect"
   ]
  },
  {
   "cell_type": "code",
   "execution_count": 4,
   "metadata": {},
   "outputs": [],
   "source": [
    "labels = ['hello','thanks','yes','no','iloveyou']\n",
    "number_imgs = 15"
   ]
  },
  {
   "cell_type": "markdown",
   "metadata": {},
   "source": [
    "## Capturing Images"
   ]
  },
  {
   "cell_type": "code",
   "execution_count": 4,
   "metadata": {},
   "outputs": [
    {
     "name": "stderr",
     "output_type": "stream",
     "text": [
      "A subdirectory or file Tensorflow\\workspace\\images\\collectedimages\\hello already exists.\n"
     ]
    },
    {
     "name": "stdout",
     "output_type": "stream",
     "text": [
      "Collecting images for hello\n",
      "Collecting images for thanks\n",
      "Collecting images for yes\n",
      "Collecting images for no\n",
      "Collecting images for iloveyou\n"
     ]
    }
   ],
   "source": [
    "IMAGES_PATH = \"Tensorflow/workspace/images/collectedimages\"\n",
    " \n",
    "for label in labels:\n",
    "    \n",
    "    !mkdir {\"Tensorflow\\workspace\\images\\collectedimages\\\\\"+label}\n",
    "    cap = cv2.VideoCapture(0)\n",
    "    print('Collecting images for {}'.format(label))\n",
    "    time.sleep(5)\n",
    "    \n",
    "    for imgnum in range(number_imgs):\n",
    "        ret, frame = cap.read()\n",
    "        imgname = os.path.join(IMAGES_PATH,label,label+'.'+'{}.jpg'.format(str(uuid.uuid1())))\n",
    "        cv2.imwrite(imgname, frame)\n",
    "        cv2.imshow('frame', frame)\n",
    "        time.sleep(2)\n",
    "        \n",
    "        if cv2.waitKey(1) & 0xFF == ord('q'):\n",
    "            break\n",
    "            \n",
    "    cap.release()"
   ]
  },
  {
   "cell_type": "markdown",
   "metadata": {},
   "source": [
    "## Labelling Images"
   ]
  },
  {
   "cell_type": "code",
   "execution_count": 5,
   "metadata": {},
   "outputs": [
    {
     "name": "stdout",
     "output_type": "stream",
     "text": [
      "Requirement already satisfied: pyqt5 in c:\\users\\namde\\anaconda3\\lib\\site-packages (5.15.4)"
     ]
    },
    {
     "name": "stderr",
     "output_type": "stream",
     "text": [
      "WARNING: Ignoring invalid distribution -eras (c:\\users\\namde\\anaconda3\\lib\\site-packages)\n",
      "WARNING: Ignoring invalid distribution -eras (c:\\users\\namde\\anaconda3\\lib\\site-packages)\n",
      "WARNING: Ignoring invalid distribution -eras (c:\\users\\namde\\anaconda3\\lib\\site-packages)\n",
      "WARNING: Ignoring invalid distribution -eras (c:\\users\\namde\\anaconda3\\lib\\site-packages)\n",
      "WARNING: Ignoring invalid distribution -eras (c:\\users\\namde\\anaconda3\\lib\\site-packages)\n"
     ]
    },
    {
     "name": "stdout",
     "output_type": "stream",
     "text": [
      "\n",
      "Requirement already satisfied: lxml in c:\\users\\namde\\anaconda3\\lib\\site-packages (4.6.3)\n",
      "Requirement already satisfied: PyQt5-Qt5>=5.15 in c:\\users\\namde\\anaconda3\\lib\\site-packages (from pyqt5) (5.15.2)\n",
      "Requirement already satisfied: PyQt5-sip<13,>=12.8 in c:\\users\\namde\\anaconda3\\lib\\site-packages (from pyqt5) (12.9.0)\n"
     ]
    }
   ],
   "source": [
    "!pip install --upgrade pyqt5 lxml\n"
   ]
  },
  {
   "cell_type": "code",
   "execution_count": 7,
   "metadata": {},
   "outputs": [
    {
     "name": "stderr",
     "output_type": "stream",
     "text": [
      "Cloning into 'labelImg'...\n"
     ]
    }
   ],
   "source": [
    "LABELING_PATH = os.path.join('Tensorflow','labelImg')\n",
    "if not os.path.exists(LABELING_PATH):\n",
    "    !mkdir {LABELING_PATH}\n",
    "    !git clone https://github.com/tzutalin/labelImg.git"
   ]
  },
  {
   "cell_type": "code",
   "execution_count": 10,
   "metadata": {},
   "outputs": [],
   "source": [
    "!cd {LABELING_PATH} && pyrcc5 -o libs/resources.py resources.qrc"
   ]
  },
  {
   "cell_type": "code",
   "execution_count": 11,
   "metadata": {},
   "outputs": [
    {
     "name": "stdout",
     "output_type": "stream",
     "text": [
      "Image:C:\\Users\\namde\\OneDrive\\Documents\\workspace\\RealTimeObjectDetection\\Tensorflow\\workspace\\images\\collectedimages\\hello.4a99d40a-1132-11ec-81fc-db71155ea0f0.jpg -> Annotation:C:/Users/namde/OneDrive/Documents/workspace/RealTimeObjectDetection/Tensorflow/workspace/images/collectedimages\\hello.4a99d40a-1132-11ec-81fc-db71155ea0f0.xml\n",
      "Image:C:\\Users\\namde\\OneDrive\\Documents\\workspace\\RealTimeObjectDetection\\Tensorflow\\workspace\\images\\collectedimages\\hello.4bd1299e-1132-11ec-94dc-db71155ea0f0.jpg -> Annotation:C:/Users/namde/OneDrive/Documents/workspace/RealTimeObjectDetection/Tensorflow/workspace/images/collectedimages\\hello.4bd1299e-1132-11ec-94dc-db71155ea0f0.xml\n",
      "Image:C:\\Users\\namde\\OneDrive\\Documents\\workspace\\RealTimeObjectDetection\\Tensorflow\\workspace\\images\\collectedimages\\hello.4d08d7c6-1132-11ec-b3a3-db71155ea0f0.jpg -> Annotation:C:/Users/namde/OneDrive/Documents/workspace/RealTimeObjectDetection/Tensorflow/workspace/images/collectedimages\\hello.4d08d7c6-1132-11ec-b3a3-db71155ea0f0.xml\n",
      "Cancel creation.\n",
      "Image:C:\\Users\\namde\\OneDrive\\Documents\\workspace\\RealTimeObjectDetection\\Tensorflow\\workspace\\images\\collectedimages\\hello.4e411ac8-1132-11ec-a5a0-db71155ea0f0.jpg -> Annotation:C:/Users/namde/OneDrive/Documents/workspace/RealTimeObjectDetection/Tensorflow/workspace/images/collectedimages\\hello.4e411ac8-1132-11ec-a5a0-db71155ea0f0.xml\n",
      "Image:C:\\Users\\namde\\OneDrive\\Documents\\workspace\\RealTimeObjectDetection\\Tensorflow\\workspace\\images\\collectedimages\\hello.4f793aba-1132-11ec-9c08-db71155ea0f0.jpg -> Annotation:C:/Users/namde/OneDrive/Documents/workspace/RealTimeObjectDetection/Tensorflow/workspace/images/collectedimages\\hello.4f793aba-1132-11ec-9c08-db71155ea0f0.xml\n",
      "Image:C:\\Users\\namde\\OneDrive\\Documents\\workspace\\RealTimeObjectDetection\\Tensorflow\\workspace\\images\\collectedimages\\hello.40d7ba30-1132-11ec-9a7f-db71155ea0f0 - Copy.jpg -> Annotation:C:/Users/namde/OneDrive/Documents/workspace/RealTimeObjectDetection/Tensorflow/workspace/images/collectedimages\\hello.40d7ba30-1132-11ec-9a7f-db71155ea0f0 - Copy.xml\n",
      "Image:C:\\Users\\namde\\OneDrive\\Documents\\workspace\\RealTimeObjectDetection\\Tensorflow\\workspace\\images\\collectedimages\\hello.40d7ba30-1132-11ec-9a7f-db71155ea0f0.jpg -> Annotation:C:/Users/namde/OneDrive/Documents/workspace/RealTimeObjectDetection/Tensorflow/workspace/images/collectedimages\\hello.40d7ba30-1132-11ec-9a7f-db71155ea0f0.xml\n",
      "Image:C:\\Users\\namde\\OneDrive\\Documents\\workspace\\RealTimeObjectDetection\\Tensorflow\\workspace\\images\\collectedimages\\hello.45b95574-1132-11ec-931e-db71155ea0f0.jpg -> Annotation:C:/Users/namde/OneDrive/Documents/workspace/RealTimeObjectDetection/Tensorflow/workspace/images/collectedimages\\hello.45b95574-1132-11ec-931e-db71155ea0f0.xml\n",
      "Image:C:\\Users\\namde\\OneDrive\\Documents\\workspace\\RealTimeObjectDetection\\Tensorflow\\workspace\\images\\collectedimages\\hello.46f20fee-1132-11ec-ab7a-db71155ea0f0 - Copy.jpg -> Annotation:C:/Users/namde/OneDrive/Documents/workspace/RealTimeObjectDetection/Tensorflow/workspace/images/collectedimages\\hello.46f20fee-1132-11ec-ab7a-db71155ea0f0 - Copy.xml\n",
      "Image:C:\\Users\\namde\\OneDrive\\Documents\\workspace\\RealTimeObjectDetection\\Tensorflow\\workspace\\images\\collectedimages\\hello.46f20fee-1132-11ec-ab7a-db71155ea0f0.jpg -> Annotation:C:/Users/namde/OneDrive/Documents/workspace/RealTimeObjectDetection/Tensorflow/workspace/images/collectedimages\\hello.46f20fee-1132-11ec-ab7a-db71155ea0f0.xml\n",
      "Image:C:\\Users\\namde\\OneDrive\\Documents\\workspace\\RealTimeObjectDetection\\Tensorflow\\workspace\\images\\collectedimages\\hello.420fe59a-1132-11ec-8aeb-db71155ea0f0.jpg -> Annotation:C:/Users/namde/OneDrive/Documents/workspace/RealTimeObjectDetection/Tensorflow/workspace/images/collectedimages\\hello.420fe59a-1132-11ec-8aeb-db71155ea0f0.xml\n",
      "Image:C:\\Users\\namde\\OneDrive\\Documents\\workspace\\RealTimeObjectDetection\\Tensorflow\\workspace\\images\\collectedimages\\hello.482a1b7a-1132-11ec-b4bd-db71155ea0f0.jpg -> Annotation:C:/Users/namde/OneDrive/Documents/workspace/RealTimeObjectDetection/Tensorflow/workspace/images/collectedimages\\hello.482a1b7a-1132-11ec-b4bd-db71155ea0f0.xml\n",
      "Image:C:\\Users\\namde\\OneDrive\\Documents\\workspace\\RealTimeObjectDetection\\Tensorflow\\workspace\\images\\collectedimages\\hello.4961fba8-1132-11ec-bf30-db71155ea0f0.jpg -> Annotation:C:/Users/namde/OneDrive/Documents/workspace/RealTimeObjectDetection/Tensorflow/workspace/images/collectedimages\\hello.4961fba8-1132-11ec-bf30-db71155ea0f0.xml\n",
      "Image:C:\\Users\\namde\\OneDrive\\Documents\\workspace\\RealTimeObjectDetection\\Tensorflow\\workspace\\images\\collectedimages\\hello.44810d12-1132-11ec-aeec-db71155ea0f0.jpg -> Annotation:C:/Users/namde/OneDrive/Documents/workspace/RealTimeObjectDetection/Tensorflow/workspace/images/collectedimages\\hello.44810d12-1132-11ec-aeec-db71155ea0f0.xml\n",
      "Cancel creation.\n",
      "Image:C:\\Users\\namde\\OneDrive\\Documents\\workspace\\RealTimeObjectDetection\\Tensorflow\\workspace\\images\\collectedimages\\hello.4348205c-1132-11ec-923a-db71155ea0f0.jpg -> Annotation:C:/Users/namde/OneDrive/Documents/workspace/RealTimeObjectDetection/Tensorflow/workspace/images/collectedimages\\hello.4348205c-1132-11ec-923a-db71155ea0f0.xml\n",
      "Image:C:\\Users\\namde\\OneDrive\\Documents\\workspace\\RealTimeObjectDetection\\Tensorflow\\workspace\\images\\collectedimages\\iloveyou.a85c7ee8-1132-11ec-90e9-db71155ea0f0.jpg -> Annotation:C:/Users/namde/OneDrive/Documents/workspace/RealTimeObjectDetection/Tensorflow/workspace/images/collectedimages\\iloveyou.a85c7ee8-1132-11ec-90e9-db71155ea0f0.xml\n",
      "Image:C:\\Users\\namde\\OneDrive\\Documents\\workspace\\RealTimeObjectDetection\\Tensorflow\\workspace\\images\\collectedimages\\iloveyou.a993c828-1132-11ec-8214-db71155ea0f0.jpg -> Annotation:C:/Users/namde/OneDrive/Documents/workspace/RealTimeObjectDetection/Tensorflow/workspace/images/collectedimages\\iloveyou.a993c828-1132-11ec-8214-db71155ea0f0.xml\n",
      "Image:C:\\Users\\namde\\OneDrive\\Documents\\workspace\\RealTimeObjectDetection\\Tensorflow\\workspace\\images\\collectedimages\\iloveyou.a7216f7a-1132-11ec-983c-db71155ea0f0.jpg -> Annotation:C:/Users/namde/OneDrive/Documents/workspace/RealTimeObjectDetection/Tensorflow/workspace/images/collectedimages\\iloveyou.a7216f7a-1132-11ec-983c-db71155ea0f0.xml\n",
      "Image:C:\\Users\\namde\\OneDrive\\Documents\\workspace\\RealTimeObjectDetection\\Tensorflow\\workspace\\images\\collectedimages\\iloveyou.aacf7798-1132-11ec-aa00-db71155ea0f0.jpg -> Annotation:C:/Users/namde/OneDrive/Documents/workspace/RealTimeObjectDetection/Tensorflow/workspace/images/collectedimages\\iloveyou.aacf7798-1132-11ec-aa00-db71155ea0f0.xml\n",
      "Image:C:\\Users\\namde\\OneDrive\\Documents\\workspace\\RealTimeObjectDetection\\Tensorflow\\workspace\\images\\collectedimages\\iloveyou.ac07281a-1132-11ec-906c-db71155ea0f0.jpg -> Annotation:C:/Users/namde/OneDrive/Documents/workspace/RealTimeObjectDetection/Tensorflow/workspace/images/collectedimages\\iloveyou.ac07281a-1132-11ec-906c-db71155ea0f0.xml\n",
      "Image:C:\\Users\\namde\\OneDrive\\Documents\\workspace\\RealTimeObjectDetection\\Tensorflow\\workspace\\images\\collectedimages\\iloveyou.ad3f1450-1132-11ec-bd84-db71155ea0f0.jpg -> Annotation:C:/Users/namde/OneDrive/Documents/workspace/RealTimeObjectDetection/Tensorflow/workspace/images/collectedimages\\iloveyou.ad3f1450-1132-11ec-bd84-db71155ea0f0.xml\n",
      "Image:C:\\Users\\namde\\OneDrive\\Documents\\workspace\\RealTimeObjectDetection\\Tensorflow\\workspace\\images\\collectedimages\\iloveyou.ae768678-1132-11ec-8068-db71155ea0f0.jpg -> Annotation:C:/Users/namde/OneDrive/Documents/workspace/RealTimeObjectDetection/Tensorflow/workspace/images/collectedimages\\iloveyou.ae768678-1132-11ec-8068-db71155ea0f0.xml\n",
      "Cancel creation.\n",
      "Image:C:\\Users\\namde\\OneDrive\\Documents\\workspace\\RealTimeObjectDetection\\Tensorflow\\workspace\\images\\collectedimages\\iloveyou.afaf53e2-1132-11ec-b095-db71155ea0f0.jpg -> Annotation:C:/Users/namde/OneDrive/Documents/workspace/RealTimeObjectDetection/Tensorflow/workspace/images/collectedimages\\iloveyou.afaf53e2-1132-11ec-b095-db71155ea0f0.xml\n",
      "Image:C:\\Users\\namde\\OneDrive\\Documents\\workspace\\RealTimeObjectDetection\\Tensorflow\\workspace\\images\\collectedimages\\iloveyou.b0e7cd08-1132-11ec-a263-db71155ea0f0.jpg -> Annotation:C:/Users/namde/OneDrive/Documents/workspace/RealTimeObjectDetection/Tensorflow/workspace/images/collectedimages\\iloveyou.b0e7cd08-1132-11ec-a263-db71155ea0f0.xml\n",
      "Image:C:\\Users\\namde\\OneDrive\\Documents\\workspace\\RealTimeObjectDetection\\Tensorflow\\workspace\\images\\collectedimages\\iloveyou.b5c72448-1132-11ec-af2a-db71155ea0f0.jpg -> Annotation:C:/Users/namde/OneDrive/Documents/workspace/RealTimeObjectDetection/Tensorflow/workspace/images/collectedimages\\iloveyou.b5c72448-1132-11ec-af2a-db71155ea0f0.xml\n"
     ]
    },
    {
     "name": "stdout",
     "output_type": "stream",
     "text": [
      "Image:C:\\Users\\namde\\OneDrive\\Documents\\workspace\\RealTimeObjectDetection\\Tensorflow\\workspace\\images\\collectedimages\\iloveyou.b6fef676-1132-11ec-bbde-db71155ea0f0.jpg -> Annotation:C:/Users/namde/OneDrive/Documents/workspace/RealTimeObjectDetection/Tensorflow/workspace/images/collectedimages\\iloveyou.b6fef676-1132-11ec-bbde-db71155ea0f0.xml\n",
      "Image:C:\\Users\\namde\\OneDrive\\Documents\\workspace\\RealTimeObjectDetection\\Tensorflow\\workspace\\images\\collectedimages\\iloveyou.b21eede6-1132-11ec-8650-db71155ea0f0.jpg -> Annotation:C:/Users/namde/OneDrive/Documents/workspace/RealTimeObjectDetection/Tensorflow/workspace/images/collectedimages\\iloveyou.b21eede6-1132-11ec-8650-db71155ea0f0.xml\n",
      "Image:C:\\Users\\namde\\OneDrive\\Documents\\workspace\\RealTimeObjectDetection\\Tensorflow\\workspace\\images\\collectedimages\\iloveyou.b48f0f08-1132-11ec-95be-db71155ea0f0.jpg -> Annotation:C:/Users/namde/OneDrive/Documents/workspace/RealTimeObjectDetection/Tensorflow/workspace/images/collectedimages\\iloveyou.b48f0f08-1132-11ec-95be-db71155ea0f0.xml\n",
      "Image:C:\\Users\\namde\\OneDrive\\Documents\\workspace\\RealTimeObjectDetection\\Tensorflow\\workspace\\images\\collectedimages\\iloveyou.b836f910-1132-11ec-8a16-db71155ea0f0.jpg -> Annotation:C:/Users/namde/OneDrive/Documents/workspace/RealTimeObjectDetection/Tensorflow/workspace/images/collectedimages\\iloveyou.b836f910-1132-11ec-8a16-db71155ea0f0.xml\n",
      "Image:C:\\Users\\namde\\OneDrive\\Documents\\workspace\\RealTimeObjectDetection\\Tensorflow\\workspace\\images\\collectedimages\\iloveyou.b35745d2-1132-11ec-baaa-db71155ea0f0.jpg -> Annotation:C:/Users/namde/OneDrive/Documents/workspace/RealTimeObjectDetection/Tensorflow/workspace/images/collectedimages\\iloveyou.b35745d2-1132-11ec-baaa-db71155ea0f0.xml\n",
      "Image:C:\\Users\\namde\\OneDrive\\Documents\\workspace\\RealTimeObjectDetection\\Tensorflow\\workspace\\images\\collectedimages\\no.8d217a5c-1132-11ec-9cf8-db71155ea0f0.jpg -> Annotation:C:/Users/namde/OneDrive/Documents/workspace/RealTimeObjectDetection/Tensorflow/workspace/images/collectedimages\\no.8d217a5c-1132-11ec-9cf8-db71155ea0f0.xml\n",
      "Image:C:\\Users\\namde\\OneDrive\\Documents\\workspace\\RealTimeObjectDetection\\Tensorflow\\workspace\\images\\collectedimages\\no.8e61a240-1132-11ec-a7db-db71155ea0f0.jpg -> Annotation:C:/Users/namde/OneDrive/Documents/workspace/RealTimeObjectDetection/Tensorflow/workspace/images/collectedimages\\no.8e61a240-1132-11ec-a7db-db71155ea0f0.xml\n",
      "Image:C:\\Users\\namde\\OneDrive\\Documents\\workspace\\RealTimeObjectDetection\\Tensorflow\\workspace\\images\\collectedimages\\no.8f995870-1132-11ec-9e74-db71155ea0f0.jpg -> Annotation:C:/Users/namde/OneDrive/Documents/workspace/RealTimeObjectDetection/Tensorflow/workspace/images/collectedimages\\no.8f995870-1132-11ec-9e74-db71155ea0f0.xml\n",
      "Image:C:\\Users\\namde\\OneDrive\\Documents\\workspace\\RealTimeObjectDetection\\Tensorflow\\workspace\\images\\collectedimages\\no.9a901b3a-1132-11ec-965d-db71155ea0f0.jpg -> Annotation:C:/Users/namde/OneDrive/Documents/workspace/RealTimeObjectDetection/Tensorflow/workspace/images/collectedimages\\no.9a901b3a-1132-11ec-965d-db71155ea0f0.xml\n",
      "Cancel creation.\n",
      "Image:C:\\Users\\namde\\OneDrive\\Documents\\workspace\\RealTimeObjectDetection\\Tensorflow\\workspace\\images\\collectedimages\\no.9bc828ac-1132-11ec-9df0-db71155ea0f0.jpg -> Annotation:C:/Users/namde/OneDrive/Documents/workspace/RealTimeObjectDetection/Tensorflow/workspace/images/collectedimages\\no.9bc828ac-1132-11ec-9df0-db71155ea0f0.xml\n",
      "Image:C:\\Users\\namde\\OneDrive\\Documents\\workspace\\RealTimeObjectDetection\\Tensorflow\\workspace\\images\\collectedimages\\no.9d0025d0-1132-11ec-955f-db71155ea0f0.jpg -> Annotation:C:/Users/namde/OneDrive/Documents/workspace/RealTimeObjectDetection/Tensorflow/workspace/images/collectedimages\\no.9d0025d0-1132-11ec-955f-db71155ea0f0.xml\n",
      "Image:C:\\Users\\namde\\OneDrive\\Documents\\workspace\\RealTimeObjectDetection\\Tensorflow\\workspace\\images\\collectedimages\\no.9e3950fa-1132-11ec-9a0f-db71155ea0f0.jpg -> Annotation:C:/Users/namde/OneDrive/Documents/workspace/RealTimeObjectDetection/Tensorflow/workspace/images/collectedimages\\no.9e3950fa-1132-11ec-9a0f-db71155ea0f0.xml\n",
      "Image:C:\\Users\\namde\\OneDrive\\Documents\\workspace\\RealTimeObjectDetection\\Tensorflow\\workspace\\images\\collectedimages\\no.90d17568-1132-11ec-9f41-db71155ea0f0.jpg -> Annotation:C:/Users/namde/OneDrive/Documents/workspace/RealTimeObjectDetection/Tensorflow/workspace/images/collectedimages\\no.90d17568-1132-11ec-9f41-db71155ea0f0.xml\n",
      "Image:C:\\Users\\namde\\OneDrive\\Documents\\workspace\\RealTimeObjectDetection\\Tensorflow\\workspace\\images\\collectedimages\\no.95b14110-1132-11ec-8879-db71155ea0f0.jpg -> Annotation:C:/Users/namde/OneDrive/Documents/workspace/RealTimeObjectDetection/Tensorflow/workspace/images/collectedimages\\no.95b14110-1132-11ec-8879-db71155ea0f0.xml\n",
      "Image:C:\\Users\\namde\\OneDrive\\Documents\\workspace\\RealTimeObjectDetection\\Tensorflow\\workspace\\images\\collectedimages\\no.96e95cd0-1132-11ec-a725-db71155ea0f0.jpg -> Annotation:C:/Users/namde/OneDrive/Documents/workspace/RealTimeObjectDetection/Tensorflow/workspace/images/collectedimages\\no.96e95cd0-1132-11ec-a725-db71155ea0f0.xml\n",
      "Image:C:\\Users\\namde\\OneDrive\\Documents\\workspace\\RealTimeObjectDetection\\Tensorflow\\workspace\\images\\collectedimages\\no.947a4888-1132-11ec-b833-db71155ea0f0.jpg -> Annotation:C:/Users/namde/OneDrive/Documents/workspace/RealTimeObjectDetection/Tensorflow/workspace/images/collectedimages\\no.947a4888-1132-11ec-b833-db71155ea0f0.xml\n",
      "Image:C:\\Users\\namde\\OneDrive\\Documents\\workspace\\RealTimeObjectDetection\\Tensorflow\\workspace\\images\\collectedimages\\no.9341ef94-1132-11ec-aa3f-db71155ea0f0.jpg -> Annotation:C:/Users/namde/OneDrive/Documents/workspace/RealTimeObjectDetection/Tensorflow/workspace/images/collectedimages\\no.9341ef94-1132-11ec-aa3f-db71155ea0f0.xml\n",
      "Image:C:\\Users\\namde\\OneDrive\\Documents\\workspace\\RealTimeObjectDetection\\Tensorflow\\workspace\\images\\collectedimages\\no.98219a68-1132-11ec-8bf5-db71155ea0f0.jpg -> Annotation:C:/Users/namde/OneDrive/Documents/workspace/RealTimeObjectDetection/Tensorflow/workspace/images/collectedimages\\no.98219a68-1132-11ec-8bf5-db71155ea0f0.xml\n",
      "Image:C:\\Users\\namde\\OneDrive\\Documents\\workspace\\RealTimeObjectDetection\\Tensorflow\\workspace\\images\\collectedimages\\no.920923ba-1132-11ec-857e-db71155ea0f0.jpg -> Annotation:C:/Users/namde/OneDrive/Documents/workspace/RealTimeObjectDetection/Tensorflow/workspace/images/collectedimages\\no.920923ba-1132-11ec-857e-db71155ea0f0.xml\n",
      "Image:C:\\Users\\namde\\OneDrive\\Documents\\workspace\\RealTimeObjectDetection\\Tensorflow\\workspace\\images\\collectedimages\\no.99582438-1132-11ec-9c71-db71155ea0f0.jpg -> Annotation:C:/Users/namde/OneDrive/Documents/workspace/RealTimeObjectDetection/Tensorflow/workspace/images/collectedimages\\no.99582438-1132-11ec-9c71-db71155ea0f0.xml\n",
      "Image:C:\\Users\\namde\\OneDrive\\Documents\\workspace\\RealTimeObjectDetection\\Tensorflow\\workspace\\images\\collectedimages\\thanks.5a08fcdc-1132-11ec-bc37-db71155ea0f0.jpg -> Annotation:C:/Users/namde/OneDrive/Documents/workspace/RealTimeObjectDetection/Tensorflow/workspace/images/collectedimages\\thanks.5a08fcdc-1132-11ec-bc37-db71155ea0f0.xml\n",
      "Image:C:\\Users\\namde\\OneDrive\\Documents\\workspace\\RealTimeObjectDetection\\Tensorflow\\workspace\\images\\collectedimages\\thanks.5b406cd4-1132-11ec-8917-db71155ea0f0.jpg -> Annotation:C:/Users/namde/OneDrive/Documents/workspace/RealTimeObjectDetection/Tensorflow/workspace/images/collectedimages\\thanks.5b406cd4-1132-11ec-8917-db71155ea0f0.xml\n",
      "Image:C:\\Users\\namde\\OneDrive\\Documents\\workspace\\RealTimeObjectDetection\\Tensorflow\\workspace\\images\\collectedimages\\thanks.5c78640a-1132-11ec-ab59-db71155ea0f0.jpg -> Annotation:C:/Users/namde/OneDrive/Documents/workspace/RealTimeObjectDetection/Tensorflow/workspace/images/collectedimages\\thanks.5c78640a-1132-11ec-ab59-db71155ea0f0.xml\n",
      "Image:C:\\Users\\namde\\OneDrive\\Documents\\workspace\\RealTimeObjectDetection\\Tensorflow\\workspace\\images\\collectedimages\\thanks.5db05894-1132-11ec-afb5-db71155ea0f0.jpg -> Annotation:C:/Users/namde/OneDrive/Documents/workspace/RealTimeObjectDetection/Tensorflow/workspace/images/collectedimages\\thanks.5db05894-1132-11ec-afb5-db71155ea0f0.xml\n",
      "Image:C:\\Users\\namde\\OneDrive\\Documents\\workspace\\RealTimeObjectDetection\\Tensorflow\\workspace\\images\\collectedimages\\thanks.5ee80606-1132-11ec-b872-db71155ea0f0.jpg -> Annotation:C:/Users/namde/OneDrive/Documents/workspace/RealTimeObjectDetection/Tensorflow/workspace/images/collectedimages\\thanks.5ee80606-1132-11ec-b872-db71155ea0f0.xml\n",
      "Image:C:\\Users\\namde\\OneDrive\\Documents\\workspace\\RealTimeObjectDetection\\Tensorflow\\workspace\\images\\collectedimages\\thanks.58c7a134-1132-11ec-a360-db71155ea0f0.jpg -> Annotation:C:/Users/namde/OneDrive/Documents/workspace/RealTimeObjectDetection/Tensorflow/workspace/images/collectedimages\\thanks.58c7a134-1132-11ec-a360-db71155ea0f0.xml\n",
      "Image:C:\\Users\\namde\\OneDrive\\Documents\\workspace\\RealTimeObjectDetection\\Tensorflow\\workspace\\images\\collectedimages\\thanks.63c81982-1132-11ec-9cab-db71155ea0f0.jpg -> Annotation:C:/Users/namde/OneDrive/Documents/workspace/RealTimeObjectDetection/Tensorflow/workspace/images/collectedimages\\thanks.63c81982-1132-11ec-9cab-db71155ea0f0.xml\n",
      "Image:C:\\Users\\namde\\OneDrive\\Documents\\workspace\\RealTimeObjectDetection\\Tensorflow\\workspace\\images\\collectedimages\\thanks.68a9a4ca-1132-11ec-b60a-db71155ea0f0.jpg -> Annotation:C:/Users/namde/OneDrive/Documents/workspace/RealTimeObjectDetection/Tensorflow/workspace/images/collectedimages\\thanks.68a9a4ca-1132-11ec-b60a-db71155ea0f0.xml\n",
      "Image:C:\\Users\\namde\\OneDrive\\Documents\\workspace\\RealTimeObjectDetection\\Tensorflow\\workspace\\images\\collectedimages\\thanks.69e19928-1132-11ec-b40d-db71155ea0f0.jpg -> Annotation:C:/Users/namde/OneDrive/Documents/workspace/RealTimeObjectDetection/Tensorflow/workspace/images/collectedimages\\thanks.69e19928-1132-11ec-b40d-db71155ea0f0.xml\n",
      "Image:C:\\Users\\namde\\OneDrive\\Documents\\workspace\\RealTimeObjectDetection\\Tensorflow\\workspace\\images\\collectedimages\\thanks.601f5b86-1132-11ec-84ad-db71155ea0f0.jpg -> Annotation:C:/Users/namde/OneDrive/Documents/workspace/RealTimeObjectDetection/Tensorflow/workspace/images/collectedimages\\thanks.601f5b86-1132-11ec-84ad-db71155ea0f0.xml\n",
      "Image:C:\\Users\\namde\\OneDrive\\Documents\\workspace\\RealTimeObjectDetection\\Tensorflow\\workspace\\images\\collectedimages\\thanks.628ef1c6-1132-11ec-88ce-db71155ea0f0.jpg -> Annotation:C:/Users/namde/OneDrive/Documents/workspace/RealTimeObjectDetection/Tensorflow/workspace/images/collectedimages\\thanks.628ef1c6-1132-11ec-88ce-db71155ea0f0.xml\n",
      "Image:C:\\Users\\namde\\OneDrive\\Documents\\workspace\\RealTimeObjectDetection\\Tensorflow\\workspace\\images\\collectedimages\\thanks.6156beae-1132-11ec-a429-db71155ea0f0.jpg -> Annotation:C:/Users/namde/OneDrive/Documents/workspace/RealTimeObjectDetection/Tensorflow/workspace/images/collectedimages\\thanks.6156beae-1132-11ec-a429-db71155ea0f0.xml\n",
      "Image:C:\\Users\\namde\\OneDrive\\Documents\\workspace\\RealTimeObjectDetection\\Tensorflow\\workspace\\images\\collectedimages\\thanks.66398a68-1132-11ec-a854-db71155ea0f0.jpg -> Annotation:C:/Users/namde/OneDrive/Documents/workspace/RealTimeObjectDetection/Tensorflow/workspace/images/collectedimages\\thanks.66398a68-1132-11ec-a854-db71155ea0f0.xml\n",
      "Image:C:\\Users\\namde\\OneDrive\\Documents\\workspace\\RealTimeObjectDetection\\Tensorflow\\workspace\\images\\collectedimages\\thanks.67729e98-1132-11ec-8723-db71155ea0f0.jpg -> Annotation:C:/Users/namde/OneDrive/Documents/workspace/RealTimeObjectDetection/Tensorflow/workspace/images/collectedimages\\thanks.67729e98-1132-11ec-8723-db71155ea0f0.xml\n",
      "Image:C:\\Users\\namde\\OneDrive\\Documents\\workspace\\RealTimeObjectDetection\\Tensorflow\\workspace\\images\\collectedimages\\thanks.65002858-1132-11ec-9c07-db71155ea0f0.jpg -> Annotation:C:/Users/namde/OneDrive/Documents/workspace/RealTimeObjectDetection/Tensorflow/workspace/images/collectedimages\\thanks.65002858-1132-11ec-9c07-db71155ea0f0.xml\n",
      "Image:C:\\Users\\namde\\OneDrive\\Documents\\workspace\\RealTimeObjectDetection\\Tensorflow\\workspace\\images\\collectedimages\\yes.7a6200f6-1132-11ec-acc3-db71155ea0f0.jpg -> Annotation:C:/Users/namde/OneDrive/Documents/workspace/RealTimeObjectDetection/Tensorflow/workspace/images/collectedimages\\yes.7a6200f6-1132-11ec-acc3-db71155ea0f0.xml\n",
      "Image:C:\\Users\\namde\\OneDrive\\Documents\\workspace\\RealTimeObjectDetection\\Tensorflow\\workspace\\images\\collectedimages\\yes.7b9a513a-1132-11ec-b586-db71155ea0f0.jpg -> Annotation:C:/Users/namde/OneDrive/Documents/workspace/RealTimeObjectDetection/Tensorflow/workspace/images/collectedimages\\yes.7b9a513a-1132-11ec-b586-db71155ea0f0.xml\n",
      "Image:C:\\Users\\namde\\OneDrive\\Documents\\workspace\\RealTimeObjectDetection\\Tensorflow\\workspace\\images\\collectedimages\\yes.7cd2f9cc-1132-11ec-835e-db71155ea0f0.jpg -> Annotation:C:/Users/namde/OneDrive/Documents/workspace/RealTimeObjectDetection/Tensorflow/workspace/images/collectedimages\\yes.7cd2f9cc-1132-11ec-835e-db71155ea0f0.xml\n"
     ]
    },
    {
     "name": "stdout",
     "output_type": "stream",
     "text": [
      "Image:C:\\Users\\namde\\OneDrive\\Documents\\workspace\\RealTimeObjectDetection\\Tensorflow\\workspace\\images\\collectedimages\\yes.7e0a1034-1132-11ec-b6e9-db71155ea0f0.jpg -> Annotation:C:/Users/namde/OneDrive/Documents/workspace/RealTimeObjectDetection/Tensorflow/workspace/images/collectedimages\\yes.7e0a1034-1132-11ec-b6e9-db71155ea0f0.xml\n",
      "Image:C:\\Users\\namde\\OneDrive\\Documents\\workspace\\RealTimeObjectDetection\\Tensorflow\\workspace\\images\\collectedimages\\yes.7f42d69a-1132-11ec-a608-db71155ea0f0.jpg -> Annotation:C:/Users/namde/OneDrive/Documents/workspace/RealTimeObjectDetection/Tensorflow/workspace/images/collectedimages\\yes.7f42d69a-1132-11ec-a608-db71155ea0f0.xml\n",
      "Image:C:\\Users\\namde\\OneDrive\\Documents\\workspace\\RealTimeObjectDetection\\Tensorflow\\workspace\\images\\collectedimages\\yes.76b745c0-1132-11ec-88c2-db71155ea0f0.jpg -> Annotation:C:/Users/namde/OneDrive/Documents/workspace/RealTimeObjectDetection/Tensorflow/workspace/images/collectedimages\\yes.76b745c0-1132-11ec-88c2-db71155ea0f0.xml\n",
      "Image:C:\\Users\\namde\\OneDrive\\Documents\\workspace\\RealTimeObjectDetection\\Tensorflow\\workspace\\images\\collectedimages\\yes.77efdab4-1132-11ec-b48c-db71155ea0f0.jpg -> Annotation:C:/Users/namde/OneDrive/Documents/workspace/RealTimeObjectDetection/Tensorflow/workspace/images/collectedimages\\yes.77efdab4-1132-11ec-b48c-db71155ea0f0.xml\n",
      "Image:C:\\Users\\namde\\OneDrive\\Documents\\workspace\\RealTimeObjectDetection\\Tensorflow\\workspace\\images\\collectedimages\\yes.81b2cb26-1132-11ec-925f-db71155ea0f0.jpg -> Annotation:C:/Users/namde/OneDrive/Documents/workspace/RealTimeObjectDetection/Tensorflow/workspace/images/collectedimages\\yes.81b2cb26-1132-11ec-925f-db71155ea0f0.xml\n",
      "Image:C:\\Users\\namde\\OneDrive\\Documents\\workspace\\RealTimeObjectDetection\\Tensorflow\\workspace\\images\\collectedimages\\yes.82e97898-1132-11ec-a355-db71155ea0f0.jpg -> Annotation:C:/Users/namde/OneDrive/Documents/workspace/RealTimeObjectDetection/Tensorflow/workspace/images/collectedimages\\yes.82e97898-1132-11ec-a355-db71155ea0f0.xml\n",
      "Image:C:\\Users\\namde\\OneDrive\\Documents\\workspace\\RealTimeObjectDetection\\Tensorflow\\workspace\\images\\collectedimages\\yes.757d480a-1132-11ec-84a0-db71155ea0f0.jpg -> Annotation:C:/Users/namde/OneDrive/Documents/workspace/RealTimeObjectDetection/Tensorflow/workspace/images/collectedimages\\yes.757d480a-1132-11ec-84a0-db71155ea0f0.xml\n",
      "Image:C:\\Users\\namde\\OneDrive\\Documents\\workspace\\RealTimeObjectDetection\\Tensorflow\\workspace\\images\\collectedimages\\yes.807b4f0c-1132-11ec-b7f1-db71155ea0f0.jpg -> Annotation:C:/Users/namde/OneDrive/Documents/workspace/RealTimeObjectDetection/Tensorflow/workspace/images/collectedimages\\yes.807b4f0c-1132-11ec-b7f1-db71155ea0f0.xml\n",
      "Image:C:\\Users\\namde\\OneDrive\\Documents\\workspace\\RealTimeObjectDetection\\Tensorflow\\workspace\\images\\collectedimages\\yes.73062a28-1132-11ec-b84b-db71155ea0f0.jpg -> Annotation:C:/Users/namde/OneDrive/Documents/workspace/RealTimeObjectDetection/Tensorflow/workspace/images/collectedimages\\yes.73062a28-1132-11ec-b84b-db71155ea0f0.xml\n",
      "Image:C:\\Users\\namde\\OneDrive\\Documents\\workspace\\RealTimeObjectDetection\\Tensorflow\\workspace\\images\\collectedimages\\yes.79284c5e-1132-11ec-ba73-db71155ea0f0.jpg -> Annotation:C:/Users/namde/OneDrive/Documents/workspace/RealTimeObjectDetection/Tensorflow/workspace/images/collectedimages\\yes.79284c5e-1132-11ec-ba73-db71155ea0f0.xml\n",
      "Image:C:\\Users\\namde\\OneDrive\\Documents\\workspace\\RealTimeObjectDetection\\Tensorflow\\workspace\\images\\collectedimages\\yes.84218bda-1132-11ec-ab13-db71155ea0f0.jpg -> Annotation:C:/Users/namde/OneDrive/Documents/workspace/RealTimeObjectDetection/Tensorflow/workspace/images/collectedimages\\yes.84218bda-1132-11ec-ab13-db71155ea0f0.xml\n",
      "Image:C:\\Users\\namde\\OneDrive\\Documents\\workspace\\RealTimeObjectDetection\\Tensorflow\\workspace\\images\\collectedimages\\yes.74464988-1132-11ec-83fa-db71155ea0f0.jpg -> Annotation:C:/Users/namde/OneDrive/Documents/workspace/RealTimeObjectDetection/Tensorflow/workspace/images/collectedimages\\yes.74464988-1132-11ec-83fa-db71155ea0f0.xml\n"
     ]
    }
   ],
   "source": [
    "!cd {LABELING_PATH} && python labelimg.py"
   ]
  },
  {
   "cell_type": "code",
   "execution_count": null,
   "metadata": {},
   "outputs": [],
   "source": []
  }
 ],
 "metadata": {
  "kernelspec": {
   "display_name": "Python 3 (ipykernel)",
   "language": "python",
   "name": "python3"
  },
  "language_info": {
   "codemirror_mode": {
    "name": "ipython",
    "version": 3
   },
   "file_extension": ".py",
   "mimetype": "text/x-python",
   "name": "python",
   "nbconvert_exporter": "python",
   "pygments_lexer": "ipython3",
   "version": "3.7.6"
  }
 },
 "nbformat": 4,
 "nbformat_minor": 4
}
